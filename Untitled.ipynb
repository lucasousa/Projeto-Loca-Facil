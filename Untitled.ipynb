{
 "cells": [
  {
   "cell_type": "code",
   "execution_count": 2,
   "metadata": {},
   "outputs": [
    {
     "ename": "TypeError",
     "evalue": "argument 1 has unexpected type 'QMainWindow'",
     "output_type": "error",
     "traceback": [
      "\u001b[1;31m---------------------------------------------------------------------------\u001b[0m",
      "\u001b[1;31mTypeError\u001b[0m                                 Traceback (most recent call last)",
      "\u001b[1;32m<ipython-input-2-d8a477c95688>\u001b[0m in \u001b[0;36m<module>\u001b[1;34m\u001b[0m\n\u001b[0;32m     71\u001b[0m \u001b[1;32mif\u001b[0m \u001b[0m__name__\u001b[0m \u001b[1;33m==\u001b[0m \u001b[1;34m'__main__'\u001b[0m\u001b[1;33m:\u001b[0m\u001b[1;33m\u001b[0m\u001b[1;33m\u001b[0m\u001b[0m\n\u001b[0;32m     72\u001b[0m     \u001b[0mapp\u001b[0m \u001b[1;33m=\u001b[0m \u001b[0mQApplication\u001b[0m\u001b[1;33m(\u001b[0m\u001b[0msys\u001b[0m\u001b[1;33m.\u001b[0m\u001b[0margv\u001b[0m\u001b[1;33m)\u001b[0m\u001b[1;33m\u001b[0m\u001b[1;33m\u001b[0m\u001b[0m\n\u001b[1;32m---> 73\u001b[1;33m     \u001b[0mshow_main\u001b[0m \u001b[1;33m=\u001b[0m \u001b[0mMain\u001b[0m\u001b[1;33m(\u001b[0m\u001b[1;33m)\u001b[0m\u001b[1;33m\u001b[0m\u001b[1;33m\u001b[0m\u001b[0m\n\u001b[0m\u001b[0;32m     74\u001b[0m     \u001b[0msys\u001b[0m\u001b[1;33m.\u001b[0m\u001b[0mexit\u001b[0m\u001b[1;33m(\u001b[0m\u001b[0mapp\u001b[0m\u001b[1;33m.\u001b[0m\u001b[0mexec_\u001b[0m\u001b[1;33m(\u001b[0m\u001b[1;33m)\u001b[0m\u001b[1;33m)\u001b[0m\u001b[1;33m\u001b[0m\u001b[1;33m\u001b[0m\u001b[0m\n",
      "\u001b[1;32m<ipython-input-2-d8a477c95688>\u001b[0m in \u001b[0;36m__init__\u001b[1;34m(self, parent)\u001b[0m\n\u001b[0;32m     52\u001b[0m         \u001b[0mself\u001b[0m\u001b[1;33m.\u001b[0m\u001b[0msetupUi\u001b[0m\u001b[1;33m(\u001b[0m\u001b[0mself\u001b[0m\u001b[1;33m)\u001b[0m\u001b[1;33m\u001b[0m\u001b[1;33m\u001b[0m\u001b[0m\n\u001b[0;32m     53\u001b[0m         \u001b[1;31m#Tela inicial\u001b[0m\u001b[1;33m\u001b[0m\u001b[1;33m\u001b[0m\u001b[1;33m\u001b[0m\u001b[0m\n\u001b[1;32m---> 54\u001b[1;33m         \u001b[0mself\u001b[0m\u001b[1;33m.\u001b[0m\u001b[0mtela_inicio\u001b[0m\u001b[1;33m.\u001b[0m\u001b[0mpushButton\u001b[0m\u001b[1;33m.\u001b[0m\u001b[0mclicked\u001b[0m\u001b[1;33m.\u001b[0m\u001b[0mconnect\u001b[0m\u001b[1;33m(\u001b[0m\u001b[0mself\u001b[0m\u001b[1;33m.\u001b[0m\u001b[0mstack3\u001b[0m\u001b[1;33m)\u001b[0m \u001b[1;31m#Botão cadastrar\u001b[0m\u001b[1;33m\u001b[0m\u001b[1;33m\u001b[0m\u001b[0m\n\u001b[0m\u001b[0;32m     55\u001b[0m         \u001b[0mself\u001b[0m\u001b[1;33m.\u001b[0m\u001b[0mtela_inicio\u001b[0m\u001b[1;33m.\u001b[0m\u001b[0mpushButton_2\u001b[0m\u001b[1;33m.\u001b[0m\u001b[0mclicked\u001b[0m\u001b[1;33m.\u001b[0m\u001b[0mconnect\u001b[0m\u001b[1;33m(\u001b[0m\u001b[0mself\u001b[0m\u001b[1;33m.\u001b[0m\u001b[0mstack1\u001b[0m\u001b[1;33m)\u001b[0m \u001b[1;31m#Botão Login\u001b[0m\u001b[1;33m\u001b[0m\u001b[1;33m\u001b[0m\u001b[0m\n\u001b[0;32m     56\u001b[0m         \u001b[1;31m#login\u001b[0m\u001b[1;33m\u001b[0m\u001b[1;33m\u001b[0m\u001b[1;33m\u001b[0m\u001b[0m\n",
      "\u001b[1;31mTypeError\u001b[0m: argument 1 has unexpected type 'QMainWindow'"
     ]
    }
   ],
   "source": [
    "from PyQt5 import QtCore, QtGui, QtWidgets\n",
    "from PyQt5.QtWidgets import QMainWindow, QMessageBox, QApplication, QTableWidgetItem\n",
    "from Telas.telainicial import Ui_telainicial\n",
    "from Telas.login import Ui_login\n",
    "from Telas.maintela import Ui_maintela\n",
    "from Telas.cadastroimovel import Ui_cadastroimovel\n",
    "from Telas.cadastrousuario import Ui_cadastrousuario\n",
    "from PyQt5.QtGui import QPixmap\n",
    "import PyQt5\n",
    "import sys\n",
    "import os\n",
    "from PyQt5.QtCore import pyqtSlot\n",
    "\n",
    "class Ui_Main(QtWidgets.QWidget):\n",
    "    def setupUi(self, Main):\n",
    "        Main.setObjectName('Main')\n",
    "        Main.resize(1200, 900)\n",
    "\n",
    "        self.QtStack = QtWidgets.QStackedLayout()\n",
    "\n",
    "        self.stack0 = QtWidgets.QMainWindow()\n",
    "        self.stack1 = QtWidgets.QMainWindow()\n",
    "        self.stack2 = QtWidgets.QMainWindow()\n",
    "        self.stack3 = QtWidgets.QMainWindow()\n",
    "        self.stack4 = QtWidgets.QMainWindow()\n",
    "\n",
    "        self.tela_inicio = Ui_telainicial()\n",
    "        self.tela_inicio.setupUi(self.stack0)\n",
    "\n",
    "        self.tela_login = Ui_login()\n",
    "        self.tela_login.setupUi(self.stack1)\n",
    "\n",
    "        self.tela_principal = Ui_maintela()\n",
    "        self.tela_principal.setupUi(self.stack2)\n",
    "\n",
    "        self.tela_cadastro_usuario = Ui_cadastrousuario()\n",
    "        self.tela_cadastro_usuario.setupUi(self.stack3)\n",
    "\n",
    "        self.tela_cadastro_imovel = Ui_cadastroimovel()\n",
    "        self.tela_cadastro_imovel.setupUi(self.stack4)\n",
    "\n",
    "        self.QtStack.addWidget(self.stack0) #Tela inicial\n",
    "        self.QtStack.addWidget(self.stack1) #Tela login\n",
    "        self.QtStack.addWidget(self.stack2) #Tela principal\n",
    "        self.QtStack.addWidget(self.stack3) #Tela Cadastro de Usuário\n",
    "        self.QtStack.addWidget(self.stack4) #Tela Cadastro de Imóvel\n",
    "\n",
    "\n",
    "class Main(QMainWindow, Ui_Main):\n",
    "    def __init__(self, parent=None):\n",
    "        super(Main, self).__init__(parent)\n",
    "        self.setupUi(self)\n",
    "        #Tela inicial\n",
    "        self.tela_inicio.pushButton.clicked.connect(self.stack3) #Botão cadastrar\n",
    "        self.tela_inicio.pushButton_2.clicked.connect(self.stack1) #Botão Login\n",
    "        #login\n",
    "        self.tela_login.pushButton.clicked.connect(self.stack2) #Botão Entrar \n",
    "        #Main tela\n",
    "        self.tela_principal.toolButton.clicked.connect(self.stack4) #Cadastrar Imóvel\n",
    "        self.tela_principal.toolButton_2.clicked.connect(NotImplemented) #Visualizar Imóveis\n",
    "        self.tela_principal.toolButton_3.clicked.connect(NotImplemented) #Sobre\n",
    "        self.tela_principal.toolButton_4.clicked.connect(NotImplemented) #Contato\n",
    "        #cadastro Usuário\n",
    "        self.tela_cadastro_usuario.pushButton.clicked.connect(self.stack2) #Cadastrar\n",
    "        #Cadastro Imóvel\n",
    "        self.tela_cadastro_imovel.pushButton.clicked.connect(self.stack2) #Cadastrar\n",
    "        \n",
    "\n",
    "\n",
    "\n",
    "if __name__ == '__main__':\n",
    "    app = QApplication(sys.argv)\n",
    "    show_main = Main()\n",
    "    sys.exit(app.exec_())"
   ]
  },
  {
   "cell_type": "code",
   "execution_count": null,
   "metadata": {},
   "outputs": [],
   "source": []
  }
 ],
 "metadata": {
  "kernelspec": {
   "display_name": "Python 3",
   "language": "python",
   "name": "python3"
  },
  "language_info": {
   "codemirror_mode": {
    "name": "ipython",
    "version": 3
   },
   "file_extension": ".py",
   "mimetype": "text/x-python",
   "name": "python",
   "nbconvert_exporter": "python",
   "pygments_lexer": "ipython3",
   "version": "3.7.3"
  }
 },
 "nbformat": 4,
 "nbformat_minor": 2
}
